{
  "nbformat": 4,
  "nbformat_minor": 0,
  "metadata": {
    "colab": {
      "name": "FOOD_ANN.ipynb",
      "provenance": [],
      "collapsed_sections": []
    },
    "kernelspec": {
      "name": "python3",
      "display_name": "Python 3"
    },
    "language_info": {
      "name": "python"
    },
    "accelerator": "GPU",
    "gpuClass": "standard"
  },
  "cells": [
    {
      "cell_type": "code",
      "execution_count": 6,
      "metadata": {
        "id": "LEXJgXFhMCA-"
      },
      "outputs": [],
      "source": [
        "import cv2\n",
        "from tqdm import tqdm, trange\n",
        "from tensorflow.keras.optimizers import Adam\n",
        "import pandas as pd\n",
        "import seaborn as sn\n",
        "from google.colab.patches import cv2_imshow\n",
        "from keras.preprocessing import image\n",
        "import tensorflow as tf\n",
        "import numpy as np\n",
        "import os\n",
        "from keras.preprocessing.image import ImageDataGenerator\n",
        "import keras\n",
        "from keras.models import Sequential, Model,load_model\n",
        "from keras.callbacks import EarlyStopping,ModelCheckpoint, ReduceLROnPlateau, CSVLogger\n",
        "from google.colab.patches import cv2_imshow\n",
        "from keras.layers import Input, Add, Dense, Activation, ZeroPadding2D, BatchNormalization, Flatten, Conv2D, AveragePooling2D, MaxPooling2D, GlobalMaxPooling2D,MaxPool2D, Dropout,GlobalAveragePooling2D\n",
        "from keras.preprocessing import image\n",
        "from keras.initializers import glorot_uniform\n",
        "from keras.models import Model\n",
        "import tensorflow as tf \n",
        "from tensorflow.keras.applications import *\n",
        "from tensorflow.keras.optimizers import RMSprop, SGD, Adam\n",
        "import matplotlib.pyplot as plt\n",
        "from keras.applications.vgg16 import VGG16"
      ]
    },
    {
      "cell_type": "code",
      "source": [
        "train_generator  = tf.keras.preprocessing.image.ImageDataGenerator(\n",
        "    rescale=1/255.,\n",
        "    validation_split = 0.2\n",
        ")"
      ],
      "metadata": {
        "id": "G4IGGWdEMGFa"
      },
      "execution_count": 7,
      "outputs": []
    },
    {
      "cell_type": "code",
      "source": [
        "train = train_generator.flow_from_directory(\n",
        "    \"/content/drive/MyDrive/15p_gg/data_food/dataset\",\n",
        "    target_size=(224,224),\n",
        "    subset = \"training\",\n",
        "    class_mode=\"categorical\",\n",
        "    shuffle = True\n",
        ")\n",
        "valid = train_generator.flow_from_directory(\n",
        "    \"/content/drive/MyDrive/15p_gg/data_food/dataset\",\n",
        "    target_size=(224,224),\n",
        "    subset = \"validation\",\n",
        "    class_mode=\"categorical\",\n",
        "    shuffle = True\n",
        ")"
      ],
      "metadata": {
        "id": "cu7cbfAHMIYp",
        "colab": {
          "base_uri": "https://localhost:8080/"
        },
        "outputId": "244e0776-1235-456b-deee-23301c06e601"
      },
      "execution_count": 8,
      "outputs": [
        {
          "output_type": "stream",
          "name": "stdout",
          "text": [
            "Found 2293 images belonging to 10 classes.\n",
            "Found 572 images belonging to 10 classes.\n"
          ]
        }
      ]
    },
    {
      "cell_type": "code",
      "source": [
        "train.class_indices"
      ],
      "metadata": {
        "id": "odvr-ohSMJ5i",
        "colab": {
          "base_uri": "https://localhost:8080/"
        },
        "outputId": "be5bbf6b-33f6-40cf-a2b3-224b2aa1ab9e"
      },
      "execution_count": 9,
      "outputs": [
        {
          "output_type": "execute_result",
          "data": {
            "text/plain": [
              "{'banh_bo': 0,\n",
              " 'banh_bot_loc': 1,\n",
              " 'banh_cong': 2,\n",
              " 'banh_da_lon': 3,\n",
              " 'banh_khot': 4,\n",
              " 'banh_mi': 5,\n",
              " 'banh_tai_heo': 6,\n",
              " 'banh_tieu': 7,\n",
              " 'banh_trung_thu': 8,\n",
              " 'banh_xeo': 9}"
            ]
          },
          "metadata": {},
          "execution_count": 9
        }
      ]
    },
    {
      "cell_type": "code",
      "source": [
        "model = tf.keras.Sequential()\n",
        "model.add(Flatten())\n",
        "model.add(Dense(1024,activation='relu',kernel_initializer= 'he_uniform'))\n",
        "model.add(Dense(512,activation='relu',kernel_initializer= 'he_uniform'))\n",
        "model.add(Dense(256,activation='relu',kernel_initializer= 'he_uniform'))\n",
        "model.add(Dense(128,activation='relu',kernel_initializer= 'he_uniform'))\n",
        "\n",
        "model.add(Dense(10,activation='sigmoid'))\n",
        "opt = SGD(lr = 0.000001,momentum=0.9)\n",
        "model.compile(optimizer = opt, loss = 'categorical_crossentropy',metrics=['accuracy'])\n",
        "\n",
        "history = model.fit(train, validation_data = valid, batch_size=64,epochs=100,verbose=1)\n",
        "model.save('/content/drive/MyDrive/15p_gg/model_FOOD_ANN.h5')"
      ],
      "metadata": {
        "id": "GGvsLJwKMOHK",
        "colab": {
          "base_uri": "https://localhost:8080/"
        },
        "outputId": "e0935312-15d3-4766-c8f0-f4b787722791"
      },
      "execution_count": 12,
      "outputs": [
        {
          "output_type": "stream",
          "name": "stderr",
          "text": [
            "/usr/local/lib/python3.7/dist-packages/keras/optimizer_v2/gradient_descent.py:102: UserWarning: The `lr` argument is deprecated, use `learning_rate` instead.\n",
            "  super(SGD, self).__init__(name, **kwargs)\n"
          ]
        },
        {
          "output_type": "stream",
          "name": "stdout",
          "text": [
            "Epoch 1/100\n",
            "10/72 [===>..........................] - ETA: 22s - loss: 2.4973 - accuracy: 0.1187"
          ]
        },
        {
          "output_type": "stream",
          "name": "stderr",
          "text": [
            "/usr/local/lib/python3.7/dist-packages/PIL/TiffImagePlugin.py:788: UserWarning: Corrupt EXIF data.  Expecting to read 4 bytes but only got 2. \n",
            "  warnings.warn(str(msg))\n"
          ]
        },
        {
          "output_type": "stream",
          "name": "stdout",
          "text": [
            "72/72 [==============================] - 37s 515ms/step - loss: 2.3874 - accuracy: 0.1060 - val_loss: 2.3139 - val_accuracy: 0.1084\n",
            "Epoch 2/100\n",
            "72/72 [==============================] - 36s 505ms/step - loss: 2.2964 - accuracy: 0.1247 - val_loss: 2.2935 - val_accuracy: 0.1259\n",
            "Epoch 3/100\n",
            "72/72 [==============================] - 36s 503ms/step - loss: 2.2773 - accuracy: 0.1596 - val_loss: 2.2846 - val_accuracy: 0.1311\n",
            "Epoch 4/100\n",
            "72/72 [==============================] - 37s 509ms/step - loss: 2.2646 - accuracy: 0.1688 - val_loss: 2.2781 - val_accuracy: 0.1416\n",
            "Epoch 5/100\n",
            "72/72 [==============================] - 36s 503ms/step - loss: 2.2540 - accuracy: 0.1836 - val_loss: 2.2712 - val_accuracy: 0.1434\n",
            "Epoch 6/100\n",
            "72/72 [==============================] - 36s 505ms/step - loss: 2.2448 - accuracy: 0.1915 - val_loss: 2.2644 - val_accuracy: 0.1538\n",
            "Epoch 7/100\n",
            "72/72 [==============================] - 36s 504ms/step - loss: 2.2352 - accuracy: 0.2002 - val_loss: 2.2584 - val_accuracy: 0.1538\n",
            "Epoch 8/100\n",
            "72/72 [==============================] - 36s 504ms/step - loss: 2.2256 - accuracy: 0.2080 - val_loss: 2.2522 - val_accuracy: 0.1608\n",
            "Epoch 9/100\n",
            "72/72 [==============================] - 36s 503ms/step - loss: 2.2172 - accuracy: 0.2159 - val_loss: 2.2464 - val_accuracy: 0.1661\n",
            "Epoch 10/100\n",
            "72/72 [==============================] - 36s 506ms/step - loss: 2.2090 - accuracy: 0.2242 - val_loss: 2.2413 - val_accuracy: 0.1661\n",
            "Epoch 11/100\n",
            "72/72 [==============================] - 36s 506ms/step - loss: 2.2012 - accuracy: 0.2320 - val_loss: 2.2361 - val_accuracy: 0.1678\n",
            "Epoch 12/100\n",
            "72/72 [==============================] - 36s 503ms/step - loss: 2.1936 - accuracy: 0.2342 - val_loss: 2.2316 - val_accuracy: 0.1713\n",
            "Epoch 13/100\n",
            "72/72 [==============================] - 36s 505ms/step - loss: 2.1862 - accuracy: 0.2390 - val_loss: 2.2263 - val_accuracy: 0.1748\n",
            "Epoch 14/100\n",
            "72/72 [==============================] - 36s 500ms/step - loss: 2.1789 - accuracy: 0.2447 - val_loss: 2.2226 - val_accuracy: 0.1801\n",
            "Epoch 15/100\n",
            "72/72 [==============================] - 36s 500ms/step - loss: 2.1725 - accuracy: 0.2468 - val_loss: 2.2169 - val_accuracy: 0.1923\n",
            "Epoch 16/100\n",
            "72/72 [==============================] - 36s 505ms/step - loss: 2.1658 - accuracy: 0.2481 - val_loss: 2.2125 - val_accuracy: 0.2045\n",
            "Epoch 17/100\n",
            "72/72 [==============================] - 36s 500ms/step - loss: 2.1587 - accuracy: 0.2543 - val_loss: 2.2075 - val_accuracy: 0.1976\n",
            "Epoch 18/100\n",
            "72/72 [==============================] - 36s 496ms/step - loss: 2.1530 - accuracy: 0.2569 - val_loss: 2.2032 - val_accuracy: 0.1976\n",
            "Epoch 19/100\n",
            "72/72 [==============================] - 36s 506ms/step - loss: 2.1470 - accuracy: 0.2586 - val_loss: 2.2005 - val_accuracy: 0.2028\n",
            "Epoch 20/100\n",
            "72/72 [==============================] - 36s 507ms/step - loss: 2.1400 - accuracy: 0.2656 - val_loss: 2.1957 - val_accuracy: 0.2115\n",
            "Epoch 21/100\n",
            "72/72 [==============================] - ETA: 0s - loss: 2.1346 - accuracy: 0.2638Epoch 22/100\n",
            "72/72 [==============================] - 36s 506ms/step - loss: 2.1292 - accuracy: 0.2708 - val_loss: 2.1890 - val_accuracy: 0.2150\n",
            "Epoch 23/100\n",
            "72/72 [==============================] - 37s 514ms/step - loss: 2.1229 - accuracy: 0.2734 - val_loss: 2.1841 - val_accuracy: 0.2185\n",
            "Epoch 24/100\n",
            "72/72 [==============================] - 37s 513ms/step - loss: 2.1180 - accuracy: 0.2800 - val_loss: 2.1804 - val_accuracy: 0.2203\n",
            "Epoch 25/100\n",
            "72/72 [==============================] - 36s 506ms/step - loss: 2.1125 - accuracy: 0.2852 - val_loss: 2.1769 - val_accuracy: 0.2220\n",
            "Epoch 26/100\n",
            "72/72 [==============================] - 37s 512ms/step - loss: 2.1077 - accuracy: 0.2861 - val_loss: 2.1739 - val_accuracy: 0.2185\n",
            "Epoch 27/100\n",
            "72/72 [==============================] - 37s 513ms/step - loss: 2.1019 - accuracy: 0.2848 - val_loss: 2.1707 - val_accuracy: 0.2185\n",
            "Epoch 28/100\n",
            "72/72 [==============================] - 36s 504ms/step - loss: 2.0963 - accuracy: 0.2952 - val_loss: 2.1668 - val_accuracy: 0.2378\n",
            "Epoch 29/100\n",
            "72/72 [==============================] - 37s 509ms/step - loss: 2.0917 - accuracy: 0.2970 - val_loss: 2.1642 - val_accuracy: 0.2308\n",
            "Epoch 30/100\n",
            "72/72 [==============================] - 36s 503ms/step - loss: 2.0863 - accuracy: 0.3000 - val_loss: 2.1611 - val_accuracy: 0.2273\n",
            "Epoch 31/100\n",
            "72/72 [==============================] - 36s 502ms/step - loss: 2.0814 - accuracy: 0.3005 - val_loss: 2.1571 - val_accuracy: 0.2343\n",
            "Epoch 32/100\n",
            "72/72 [==============================] - 36s 506ms/step - loss: 2.0771 - accuracy: 0.3057 - val_loss: 2.1544 - val_accuracy: 0.2483\n",
            "Epoch 33/100\n",
            "72/72 [==============================] - 36s 506ms/step - loss: 2.0725 - accuracy: 0.3109 - val_loss: 2.1526 - val_accuracy: 0.2238\n",
            "Epoch 34/100\n",
            "72/72 [==============================] - 36s 505ms/step - loss: 2.0679 - accuracy: 0.3123 - val_loss: 2.1492 - val_accuracy: 0.2430\n",
            "Epoch 35/100\n",
            "72/72 [==============================] - 36s 506ms/step - loss: 2.0630 - accuracy: 0.3140 - val_loss: 2.1463 - val_accuracy: 0.2325\n",
            "Epoch 36/100\n",
            "72/72 [==============================] - 37s 510ms/step - loss: 2.0580 - accuracy: 0.3210 - val_loss: 2.1435 - val_accuracy: 0.2413\n",
            "Epoch 37/100\n",
            "72/72 [==============================] - 37s 510ms/step - loss: 2.0540 - accuracy: 0.3123 - val_loss: 2.1411 - val_accuracy: 0.2360\n",
            "Epoch 38/100\n",
            "72/72 [==============================] - 37s 514ms/step - loss: 2.0496 - accuracy: 0.3192 - val_loss: 2.1371 - val_accuracy: 0.2360\n",
            "Epoch 39/100\n",
            "72/72 [==============================] - 37s 508ms/step - loss: 2.0455 - accuracy: 0.3214 - val_loss: 2.1348 - val_accuracy: 0.2413\n",
            "Epoch 40/100\n",
            "72/72 [==============================] - 37s 514ms/step - loss: 2.0403 - accuracy: 0.3284 - val_loss: 2.1324 - val_accuracy: 0.2378\n",
            "Epoch 41/100\n",
            "72/72 [==============================] - 36s 503ms/step - loss: 2.0364 - accuracy: 0.3253 - val_loss: 2.1299 - val_accuracy: 0.2413\n",
            "Epoch 42/100\n",
            "72/72 [==============================] - 36s 502ms/step - loss: 2.0323 - accuracy: 0.3314 - val_loss: 2.1271 - val_accuracy: 0.2448\n",
            "Epoch 43/100\n",
            "72/72 [==============================] - 36s 502ms/step - loss: 2.0272 - accuracy: 0.3314 - val_loss: 2.1240 - val_accuracy: 0.2465\n",
            "Epoch 44/100\n",
            "72/72 [==============================] - 36s 499ms/step - loss: 2.0225 - accuracy: 0.3375 - val_loss: 2.1231 - val_accuracy: 0.2413\n",
            "Epoch 45/100\n",
            "72/72 [==============================] - 36s 504ms/step - loss: 2.0189 - accuracy: 0.3362 - val_loss: 2.1210 - val_accuracy: 0.2535\n",
            "Epoch 46/100\n",
            "72/72 [==============================] - 36s 506ms/step - loss: 2.0143 - accuracy: 0.3332 - val_loss: 2.1171 - val_accuracy: 0.2535\n",
            "Epoch 47/100\n",
            "72/72 [==============================] - 36s 504ms/step - loss: 2.0103 - accuracy: 0.3454 - val_loss: 2.1149 - val_accuracy: 0.2465\n",
            "Epoch 48/100\n",
            "72/72 [==============================] - 36s 500ms/step - loss: 2.0058 - accuracy: 0.3445 - val_loss: 2.1118 - val_accuracy: 0.2535\n",
            "Epoch 49/100\n",
            "72/72 [==============================] - 36s 502ms/step - loss: 2.0017 - accuracy: 0.3471 - val_loss: 2.1109 - val_accuracy: 0.2570\n",
            "Epoch 50/100\n",
            "72/72 [==============================] - 36s 503ms/step - loss: 1.9979 - accuracy: 0.3502 - val_loss: 2.1081 - val_accuracy: 0.2535\n",
            "Epoch 51/100\n",
            "72/72 [==============================] - 36s 505ms/step - loss: 1.9937 - accuracy: 0.3554 - val_loss: 2.1062 - val_accuracy: 0.2605\n",
            "Epoch 52/100\n",
            "72/72 [==============================] - 36s 504ms/step - loss: 1.9894 - accuracy: 0.3471 - val_loss: 2.1025 - val_accuracy: 0.2517\n",
            "Epoch 53/100\n",
            "72/72 [==============================] - 36s 501ms/step - loss: 1.9857 - accuracy: 0.3541 - val_loss: 2.1003 - val_accuracy: 0.2535\n",
            "Epoch 54/100\n",
            "72/72 [==============================] - 36s 504ms/step - loss: 1.9822 - accuracy: 0.3532 - val_loss: 2.0998 - val_accuracy: 0.2517\n",
            "Epoch 55/100\n",
            "72/72 [==============================] - 37s 505ms/step - loss: 1.9776 - accuracy: 0.3567 - val_loss: 2.0963 - val_accuracy: 0.2517\n",
            "Epoch 56/100\n",
            "72/72 [==============================] - 36s 502ms/step - loss: 1.9733 - accuracy: 0.3567 - val_loss: 2.0964 - val_accuracy: 0.2587\n",
            "Epoch 57/100\n",
            "72/72 [==============================] - 36s 501ms/step - loss: 1.9695 - accuracy: 0.3559 - val_loss: 2.0917 - val_accuracy: 0.2605\n",
            "Epoch 58/100\n",
            "72/72 [==============================] - 36s 500ms/step - loss: 1.9652 - accuracy: 0.3633 - val_loss: 2.0894 - val_accuracy: 0.2640\n",
            "Epoch 59/100\n",
            "72/72 [==============================] - 36s 499ms/step - loss: 1.9614 - accuracy: 0.3707 - val_loss: 2.0874 - val_accuracy: 0.2727\n",
            "Epoch 60/100\n",
            "72/72 [==============================] - 36s 503ms/step - loss: 1.9573 - accuracy: 0.3768 - val_loss: 2.0867 - val_accuracy: 0.2622\n",
            "Epoch 61/100\n",
            "72/72 [==============================] - 36s 503ms/step - loss: 1.9534 - accuracy: 0.3703 - val_loss: 2.0830 - val_accuracy: 0.2622\n",
            "Epoch 62/100\n",
            "72/72 [==============================] - 36s 506ms/step - loss: 1.9500 - accuracy: 0.3703 - val_loss: 2.0816 - val_accuracy: 0.2745\n",
            "Epoch 63/100\n",
            "72/72 [==============================] - 36s 503ms/step - loss: 1.9457 - accuracy: 0.3768 - val_loss: 2.0812 - val_accuracy: 0.2692\n",
            "Epoch 64/100\n",
            "72/72 [==============================] - 37s 509ms/step - loss: 1.9417 - accuracy: 0.3755 - val_loss: 2.0783 - val_accuracy: 0.2657\n",
            "Epoch 65/100\n",
            "72/72 [==============================] - 36s 506ms/step - loss: 1.9379 - accuracy: 0.3711 - val_loss: 2.0764 - val_accuracy: 0.2657\n",
            "Epoch 66/100\n",
            "72/72 [==============================] - 36s 503ms/step - loss: 1.9344 - accuracy: 0.3825 - val_loss: 2.0756 - val_accuracy: 0.2622\n",
            "Epoch 67/100\n",
            "72/72 [==============================] - 36s 508ms/step - loss: 1.9308 - accuracy: 0.3825 - val_loss: 2.0717 - val_accuracy: 0.2745\n",
            "Epoch 68/100\n",
            "72/72 [==============================] - 36s 505ms/step - loss: 1.9275 - accuracy: 0.3820 - val_loss: 2.0709 - val_accuracy: 0.2692\n",
            "Epoch 69/100\n",
            "72/72 [==============================] - 36s 509ms/step - loss: 1.9228 - accuracy: 0.3820 - val_loss: 2.0678 - val_accuracy: 0.2745\n",
            "Epoch 70/100\n",
            "72/72 [==============================] - 36s 504ms/step - loss: 1.9206 - accuracy: 0.3864 - val_loss: 2.0658 - val_accuracy: 0.2815\n",
            "Epoch 71/100\n",
            "72/72 [==============================] - 36s 505ms/step - loss: 1.9160 - accuracy: 0.3921 - val_loss: 2.0649 - val_accuracy: 0.2727\n",
            "Epoch 72/100\n",
            "72/72 [==============================] - 37s 509ms/step - loss: 1.9128 - accuracy: 0.3864 - val_loss: 2.0629 - val_accuracy: 0.2850\n",
            "Epoch 73/100\n",
            "72/72 [==============================] - 36s 502ms/step - loss: 1.9082 - accuracy: 0.3921 - val_loss: 2.0605 - val_accuracy: 0.2710\n",
            "Epoch 74/100\n",
            "72/72 [==============================] - 36s 502ms/step - loss: 1.9054 - accuracy: 0.3860 - val_loss: 2.0584 - val_accuracy: 0.2780\n",
            "Epoch 75/100\n",
            "72/72 [==============================] - 36s 505ms/step - loss: 1.9018 - accuracy: 0.3973 - val_loss: 2.0578 - val_accuracy: 0.2815\n",
            "Epoch 76/100\n",
            "72/72 [==============================] - 36s 501ms/step - loss: 1.8979 - accuracy: 0.3929 - val_loss: 2.0559 - val_accuracy: 0.2780\n",
            "Epoch 77/100\n",
            "72/72 [==============================] - 36s 506ms/step - loss: 1.8954 - accuracy: 0.3925 - val_loss: 2.0544 - val_accuracy: 0.2692\n",
            "Epoch 78/100\n",
            "72/72 [==============================] - 36s 504ms/step - loss: 1.8910 - accuracy: 0.4021 - val_loss: 2.0507 - val_accuracy: 0.2815\n",
            "Epoch 79/100\n",
            "72/72 [==============================] - 36s 499ms/step - loss: 1.8868 - accuracy: 0.4091 - val_loss: 2.0532 - val_accuracy: 0.2745\n",
            "Epoch 80/100\n",
            "72/72 [==============================] - 36s 505ms/step - loss: 1.8834 - accuracy: 0.4003 - val_loss: 2.0475 - val_accuracy: 0.2832\n",
            "Epoch 81/100\n",
            "72/72 [==============================] - 37s 512ms/step - loss: 1.8796 - accuracy: 0.4060 - val_loss: 2.0468 - val_accuracy: 0.2815\n",
            "Epoch 82/100\n",
            "72/72 [==============================] - 37s 509ms/step - loss: 1.8777 - accuracy: 0.4091 - val_loss: 2.0436 - val_accuracy: 0.2797\n",
            "Epoch 83/100\n",
            "72/72 [==============================] - 36s 509ms/step - loss: 1.8726 - accuracy: 0.4130 - val_loss: 2.0423 - val_accuracy: 0.2832\n",
            "Epoch 84/100\n",
            "72/72 [==============================] - 36s 507ms/step - loss: 1.8691 - accuracy: 0.4130 - val_loss: 2.0416 - val_accuracy: 0.2762\n",
            "Epoch 85/100\n",
            "72/72 [==============================] - 36s 506ms/step - loss: 1.8661 - accuracy: 0.4091 - val_loss: 2.0377 - val_accuracy: 0.2832\n",
            "Epoch 86/100\n",
            "72/72 [==============================] - 36s 505ms/step - loss: 1.8628 - accuracy: 0.4147 - val_loss: 2.0371 - val_accuracy: 0.2867\n",
            "Epoch 87/100\n",
            "72/72 [==============================] - 37s 515ms/step - loss: 1.8589 - accuracy: 0.4213 - val_loss: 2.0355 - val_accuracy: 0.2902\n",
            "Epoch 88/100\n",
            "72/72 [==============================] - 37s 509ms/step - loss: 1.8555 - accuracy: 0.4156 - val_loss: 2.0341 - val_accuracy: 0.2815\n",
            "Epoch 89/100\n",
            "72/72 [==============================] - 37s 513ms/step - loss: 1.8526 - accuracy: 0.4256 - val_loss: 2.0322 - val_accuracy: 0.2797\n",
            "Epoch 90/100\n",
            "72/72 [==============================] - 36s 509ms/step - loss: 1.8484 - accuracy: 0.4239 - val_loss: 2.0310 - val_accuracy: 0.2850\n",
            "Epoch 91/100\n",
            "72/72 [==============================] - 36s 506ms/step - loss: 1.8455 - accuracy: 0.4256 - val_loss: 2.0284 - val_accuracy: 0.2885\n",
            "Epoch 92/100\n",
            "72/72 [==============================] - 36s 507ms/step - loss: 1.8423 - accuracy: 0.4252 - val_loss: 2.0282 - val_accuracy: 0.2902\n",
            "Epoch 93/100\n",
            "72/72 [==============================] - 36s 506ms/step - loss: 1.8388 - accuracy: 0.4195 - val_loss: 2.0252 - val_accuracy: 0.2850\n",
            "Epoch 94/100\n",
            "72/72 [==============================] - 36s 501ms/step - loss: 1.8353 - accuracy: 0.4335 - val_loss: 2.0259 - val_accuracy: 0.2902\n",
            "Epoch 95/100\n",
            "72/72 [==============================] - 37s 510ms/step - loss: 1.8317 - accuracy: 0.4361 - val_loss: 2.0212 - val_accuracy: 0.2850\n",
            "Epoch 96/100\n",
            "72/72 [==============================] - 36s 507ms/step - loss: 1.8287 - accuracy: 0.4405 - val_loss: 2.0206 - val_accuracy: 0.2920\n",
            "Epoch 97/100\n",
            "72/72 [==============================] - 36s 508ms/step - loss: 1.8250 - accuracy: 0.4344 - val_loss: 2.0187 - val_accuracy: 0.2955\n",
            "Epoch 98/100\n",
            "72/72 [==============================] - 37s 513ms/step - loss: 1.8226 - accuracy: 0.4400 - val_loss: 2.0170 - val_accuracy: 0.3007\n",
            "Epoch 99/100\n",
            "72/72 [==============================] - 36s 506ms/step - loss: 1.8189 - accuracy: 0.4453 - val_loss: 2.0167 - val_accuracy: 0.2902\n",
            "Epoch 100/100\n",
            "72/72 [==============================] - 36s 505ms/step - loss: 1.8154 - accuracy: 0.4370 - val_loss: 2.0160 - val_accuracy: 0.2937\n"
          ]
        }
      ]
    },
    {
      "cell_type": "code",
      "source": [
        "score = model.evaluate(valid,verbose=0)\n",
        "print('Test loss: ',score[0])\n",
        "print('test accuraccy',score[1])\n"
      ],
      "metadata": {
        "id": "egF5HRlLMXto",
        "colab": {
          "base_uri": "https://localhost:8080/"
        },
        "outputId": "58ac58e1-2914-45a0-8f63-436122b8c8ef"
      },
      "execution_count": 13,
      "outputs": [
        {
          "output_type": "stream",
          "name": "stdout",
          "text": [
            "Test loss:  2.015984296798706\n",
            "test accuraccy 0.2937062978744507\n"
          ]
        }
      ]
    }
  ]
}