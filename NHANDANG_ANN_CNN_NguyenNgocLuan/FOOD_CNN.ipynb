{
  "nbformat": 4,
  "nbformat_minor": 0,
  "metadata": {
    "colab": {
      "name": "FOOD_CNN.ipynb",
      "provenance": []
    },
    "kernelspec": {
      "name": "python3",
      "display_name": "Python 3"
    },
    "language_info": {
      "name": "python"
    },
    "accelerator": "GPU",
    "gpuClass": "standard"
  },
  "cells": [
    {
      "cell_type": "code",
      "execution_count": 2,
      "metadata": {
        "id": "1-CgBbV9myKm"
      },
      "outputs": [],
      "source": [
        "import cv2\n",
        "from tqdm import tqdm, trange\n",
        "from tensorflow.keras.optimizers import Adam\n",
        "import pandas as pd\n",
        "import seaborn as sn\n",
        "from google.colab.patches import cv2_imshow\n",
        "from keras.preprocessing import image\n",
        "import tensorflow as tf\n",
        "import numpy as np\n",
        "import os\n",
        "from keras.preprocessing.image import ImageDataGenerator\n",
        "import keras\n",
        "from keras.models import Sequential, Model,load_model\n",
        "from keras.callbacks import EarlyStopping,ModelCheckpoint, ReduceLROnPlateau, CSVLogger\n",
        "from google.colab.patches import cv2_imshow\n",
        "from keras.layers import Input, Add, Dense, Activation, ZeroPadding2D, BatchNormalization, Flatten, Conv2D, AveragePooling2D, MaxPooling2D, GlobalMaxPooling2D,MaxPool2D, Dropout,GlobalAveragePooling2D\n",
        "from keras.preprocessing import image\n",
        "from keras.initializers import glorot_uniform\n",
        "from keras.models import Model\n",
        "import tensorflow as tf \n",
        "from tensorflow.keras.applications import *\n",
        "from tensorflow.keras.optimizers import RMSprop, SGD\n",
        "import matplotlib.pyplot as plt\n",
        "from keras.applications.vgg16 import VGG16"
      ]
    },
    {
      "cell_type": "code",
      "source": [
        "train_generator  = tf.keras.preprocessing.image.ImageDataGenerator(\n",
        "    rescale=1/255.,\n",
        "    validation_split = 0.2\n",
        ")"
      ],
      "metadata": {
        "id": "pmlAvJV-p3Sz"
      },
      "execution_count": 6,
      "outputs": []
    },
    {
      "cell_type": "code",
      "source": [
        "train = train_generator.flow_from_directory(\n",
        "    \"/content/drive/MyDrive/15p_gg/data_food/dataset\",\n",
        "    target_size=(224,224),\n",
        "    subset = \"training\",\n",
        "    class_mode=\"categorical\",\n",
        "    shuffle = True\n",
        ")\n",
        "valid = train_generator.flow_from_directory(\n",
        "    \"/content/drive/MyDrive/15p_gg/data_food/dataset\",\n",
        "    target_size=(224,224),\n",
        "    subset = \"validation\",\n",
        "    class_mode=\"categorical\",\n",
        "    shuffle = True\n",
        ")"
      ],
      "metadata": {
        "colab": {
          "base_uri": "https://localhost:8080/"
        },
        "id": "KPoEjND-p4-C",
        "outputId": "cb6978a0-678b-4835-a91f-85a5c785467e"
      },
      "execution_count": 7,
      "outputs": [
        {
          "output_type": "stream",
          "name": "stdout",
          "text": [
            "Found 2293 images belonging to 10 classes.\n",
            "Found 572 images belonging to 10 classes.\n"
          ]
        }
      ]
    },
    {
      "cell_type": "code",
      "source": [
        "train.class_indices"
      ],
      "metadata": {
        "colab": {
          "base_uri": "https://localhost:8080/"
        },
        "id": "GrV4e1-0uOBg",
        "outputId": "a5a79721-4b48-4efe-93f6-5ba1f1db6d2b"
      },
      "execution_count": 8,
      "outputs": [
        {
          "output_type": "execute_result",
          "data": {
            "text/plain": [
              "{'banh_bo': 0,\n",
              " 'banh_bot_loc': 1,\n",
              " 'banh_cong': 2,\n",
              " 'banh_da_lon': 3,\n",
              " 'banh_khot': 4,\n",
              " 'banh_mi': 5,\n",
              " 'banh_tai_heo': 6,\n",
              " 'banh_tieu': 7,\n",
              " 'banh_trung_thu': 8,\n",
              " 'banh_xeo': 9}"
            ]
          },
          "metadata": {},
          "execution_count": 8
        }
      ]
    },
    {
      "cell_type": "code",
      "source": [
        "model_efficientNet= VGG16(include_top= False, weights= \"imagenet\", input_shape= (224,224,3))\n",
        "model = Sequential()\n",
        "model.add(model_efficientNet)\n",
        "model.add(GlobalAveragePooling2D())\n",
        "model.add(Dropout(0.2))\n",
        "model.add(Dense(10, activation = \"sigmoid\"))\n",
        "opt = SGD(lr = 0.000001,momentum=0.9)\n",
        "model.compile(optimizer = opt, loss = 'categorical_crossentropy',metrics=['accuracy'])\n",
        "\n",
        "history = model.fit(train, validation_data = valid, batch_size=128,epochs=100,verbose=1)\n",
        "model.save(\"/content/drive/MyDrive/15p_gg/model_FOOD_CNN.h5\")"
      ],
      "metadata": {
        "id": "WSQ7160zuZ6e",
        "colab": {
          "base_uri": "https://localhost:8080/"
        },
        "outputId": "161ffe6e-729d-4efa-997c-ef606c3e9e33"
      },
      "execution_count": 10,
      "outputs": [
        {
          "output_type": "stream",
          "name": "stderr",
          "text": [
            "/usr/local/lib/python3.7/dist-packages/keras/optimizer_v2/gradient_descent.py:102: UserWarning: The `lr` argument is deprecated, use `learning_rate` instead.\n",
            "  super(SGD, self).__init__(name, **kwargs)\n"
          ]
        },
        {
          "output_type": "stream",
          "name": "stdout",
          "text": [
            "Epoch 1/100\n",
            "11/72 [===>..........................] - ETA: 27s - loss: 2.4647 - accuracy: 0.1080"
          ]
        },
        {
          "output_type": "stream",
          "name": "stderr",
          "text": [
            "/usr/local/lib/python3.7/dist-packages/PIL/TiffImagePlugin.py:788: UserWarning: Corrupt EXIF data.  Expecting to read 4 bytes but only got 2. \n",
            "  warnings.warn(str(msg))\n"
          ]
        },
        {
          "output_type": "stream",
          "name": "stdout",
          "text": [
            "72/72 [==============================] - 46s 631ms/step - loss: 2.4436 - accuracy: 0.1038 - val_loss: 2.4002 - val_accuracy: 0.0909\n",
            "Epoch 2/100\n",
            "72/72 [==============================] - 45s 629ms/step - loss: 2.4426 - accuracy: 0.0920 - val_loss: 2.3936 - val_accuracy: 0.0927\n",
            "Epoch 3/100\n",
            "72/72 [==============================] - 45s 627ms/step - loss: 2.4292 - accuracy: 0.0946 - val_loss: 2.3872 - val_accuracy: 0.0927\n",
            "Epoch 4/100\n",
            "72/72 [==============================] - 46s 630ms/step - loss: 2.4187 - accuracy: 0.1073 - val_loss: 2.3811 - val_accuracy: 0.0962\n",
            "Epoch 5/100\n",
            "72/72 [==============================] - 45s 627ms/step - loss: 2.4169 - accuracy: 0.1112 - val_loss: 2.3754 - val_accuracy: 0.0979\n",
            "Epoch 6/100\n",
            "72/72 [==============================] - 46s 635ms/step - loss: 2.3877 - accuracy: 0.1130 - val_loss: 2.3699 - val_accuracy: 0.1031\n",
            "Epoch 7/100\n",
            "72/72 [==============================] - 45s 621ms/step - loss: 2.4006 - accuracy: 0.1038 - val_loss: 2.3645 - val_accuracy: 0.1049\n",
            "Epoch 8/100\n",
            "72/72 [==============================] - 45s 622ms/step - loss: 2.4012 - accuracy: 0.1077 - val_loss: 2.3593 - val_accuracy: 0.1066\n",
            "Epoch 9/100\n",
            "72/72 [==============================] - 45s 627ms/step - loss: 2.3951 - accuracy: 0.1147 - val_loss: 2.3542 - val_accuracy: 0.1101\n",
            "Epoch 10/100\n",
            "72/72 [==============================] - 46s 630ms/step - loss: 2.3868 - accuracy: 0.1042 - val_loss: 2.3494 - val_accuracy: 0.1154\n",
            "Epoch 11/100\n",
            "72/72 [==============================] - 46s 630ms/step - loss: 2.3864 - accuracy: 0.1099 - val_loss: 2.3448 - val_accuracy: 0.1206\n",
            "Epoch 12/100\n",
            "72/72 [==============================] - 45s 629ms/step - loss: 2.3753 - accuracy: 0.1130 - val_loss: 2.3404 - val_accuracy: 0.1206\n",
            "Epoch 13/100\n",
            "72/72 [==============================] - 46s 642ms/step - loss: 2.3712 - accuracy: 0.1169 - val_loss: 2.3359 - val_accuracy: 0.1224\n",
            "Epoch 14/100\n",
            "72/72 [==============================] - 46s 633ms/step - loss: 2.3570 - accuracy: 0.1313 - val_loss: 2.3318 - val_accuracy: 0.1241\n",
            "Epoch 15/100\n",
            "72/72 [==============================] - 45s 624ms/step - loss: 2.3615 - accuracy: 0.1182 - val_loss: 2.3275 - val_accuracy: 0.1259\n",
            "Epoch 16/100\n",
            "72/72 [==============================] - 46s 626ms/step - loss: 2.3518 - accuracy: 0.1191 - val_loss: 2.3235 - val_accuracy: 0.1329\n",
            "Epoch 17/100\n",
            "72/72 [==============================] - 45s 626ms/step - loss: 2.3539 - accuracy: 0.1204 - val_loss: 2.3195 - val_accuracy: 0.1311\n",
            "Epoch 18/100\n",
            "72/72 [==============================] - 46s 640ms/step - loss: 2.3447 - accuracy: 0.1191 - val_loss: 2.3156 - val_accuracy: 0.1346\n",
            "Epoch 19/100\n",
            "72/72 [==============================] - 45s 625ms/step - loss: 2.3406 - accuracy: 0.1217 - val_loss: 2.3119 - val_accuracy: 0.1329\n",
            "Epoch 20/100\n",
            "72/72 [==============================] - 45s 626ms/step - loss: 2.3442 - accuracy: 0.1225 - val_loss: 2.3081 - val_accuracy: 0.1311\n",
            "Epoch 21/100\n",
            "72/72 [==============================] - 45s 626ms/step - loss: 2.3418 - accuracy: 0.1221 - val_loss: 2.3043 - val_accuracy: 0.1346\n",
            "Epoch 22/100\n",
            "72/72 [==============================] - 45s 627ms/step - loss: 2.3321 - accuracy: 0.1382 - val_loss: 2.3008 - val_accuracy: 0.1364\n",
            "Epoch 23/100\n",
            "72/72 [==============================] - 45s 626ms/step - loss: 2.3355 - accuracy: 0.1396 - val_loss: 2.2972 - val_accuracy: 0.1346\n",
            "Epoch 24/100\n",
            "72/72 [==============================] - 45s 624ms/step - loss: 2.3274 - accuracy: 0.1278 - val_loss: 2.2938 - val_accuracy: 0.1451\n",
            "Epoch 25/100\n",
            "72/72 [==============================] - 46s 642ms/step - loss: 2.3259 - accuracy: 0.1308 - val_loss: 2.2903 - val_accuracy: 0.1503\n",
            "Epoch 26/100\n",
            "72/72 [==============================] - 45s 622ms/step - loss: 2.3193 - accuracy: 0.1321 - val_loss: 2.2870 - val_accuracy: 0.1521\n",
            "Epoch 27/100\n",
            "72/72 [==============================] - 45s 624ms/step - loss: 2.2952 - accuracy: 0.1452 - val_loss: 2.2837 - val_accuracy: 0.1538\n",
            "Epoch 28/100\n",
            "72/72 [==============================] - 45s 622ms/step - loss: 2.3073 - accuracy: 0.1452 - val_loss: 2.2804 - val_accuracy: 0.1591\n",
            "Epoch 29/100\n",
            "72/72 [==============================] - 45s 626ms/step - loss: 2.3080 - accuracy: 0.1470 - val_loss: 2.2773 - val_accuracy: 0.1626\n",
            "Epoch 30/100\n",
            "72/72 [==============================] - 45s 623ms/step - loss: 2.3025 - accuracy: 0.1400 - val_loss: 2.2740 - val_accuracy: 0.1661\n",
            "Epoch 31/100\n",
            "72/72 [==============================] - 46s 637ms/step - loss: 2.3022 - accuracy: 0.1374 - val_loss: 2.2710 - val_accuracy: 0.1731\n",
            "Epoch 32/100\n",
            "72/72 [==============================] - 45s 626ms/step - loss: 2.3005 - accuracy: 0.1544 - val_loss: 2.2678 - val_accuracy: 0.1783\n",
            "Epoch 33/100\n",
            "72/72 [==============================] - 45s 624ms/step - loss: 2.2981 - accuracy: 0.1509 - val_loss: 2.2647 - val_accuracy: 0.1836\n",
            "Epoch 34/100\n",
            "72/72 [==============================] - 45s 621ms/step - loss: 2.2862 - accuracy: 0.1522 - val_loss: 2.2616 - val_accuracy: 0.1836\n",
            "Epoch 35/100\n",
            "72/72 [==============================] - 45s 623ms/step - loss: 2.2760 - accuracy: 0.1583 - val_loss: 2.2586 - val_accuracy: 0.1906\n",
            "Epoch 36/100\n",
            "72/72 [==============================] - 45s 625ms/step - loss: 2.2647 - accuracy: 0.1653 - val_loss: 2.2555 - val_accuracy: 0.1923\n",
            "Epoch 37/100\n",
            "72/72 [==============================] - 46s 639ms/step - loss: 2.2773 - accuracy: 0.1609 - val_loss: 2.2525 - val_accuracy: 0.1976\n",
            "Epoch 38/100\n",
            "72/72 [==============================] - 45s 623ms/step - loss: 2.2785 - accuracy: 0.1662 - val_loss: 2.2495 - val_accuracy: 0.2010\n",
            "Epoch 39/100\n",
            "72/72 [==============================] - 45s 626ms/step - loss: 2.2597 - accuracy: 0.1801 - val_loss: 2.2466 - val_accuracy: 0.2028\n",
            "Epoch 40/100\n",
            "72/72 [==============================] - 45s 623ms/step - loss: 2.2698 - accuracy: 0.1731 - val_loss: 2.2436 - val_accuracy: 0.2045\n",
            "Epoch 41/100\n",
            "72/72 [==============================] - 45s 623ms/step - loss: 2.2618 - accuracy: 0.1819 - val_loss: 2.2407 - val_accuracy: 0.2063\n",
            "Epoch 42/100\n",
            "72/72 [==============================] - 45s 622ms/step - loss: 2.2712 - accuracy: 0.1675 - val_loss: 2.2378 - val_accuracy: 0.2080\n",
            "Epoch 43/100\n",
            "72/72 [==============================] - 46s 630ms/step - loss: 2.2644 - accuracy: 0.1692 - val_loss: 2.2349 - val_accuracy: 0.2150\n",
            "Epoch 44/100\n",
            "72/72 [==============================] - 45s 622ms/step - loss: 2.2504 - accuracy: 0.1727 - val_loss: 2.2320 - val_accuracy: 0.2168\n",
            "Epoch 45/100\n",
            "72/72 [==============================] - 45s 625ms/step - loss: 2.2525 - accuracy: 0.1731 - val_loss: 2.2291 - val_accuracy: 0.2255\n",
            "Epoch 46/100\n",
            "72/72 [==============================] - 45s 624ms/step - loss: 2.2543 - accuracy: 0.1862 - val_loss: 2.2261 - val_accuracy: 0.2290\n",
            "Epoch 47/100\n",
            "72/72 [==============================] - 45s 624ms/step - loss: 2.2507 - accuracy: 0.1749 - val_loss: 2.2232 - val_accuracy: 0.2308\n",
            "Epoch 48/100\n",
            "72/72 [==============================] - 46s 637ms/step - loss: 2.2465 - accuracy: 0.1871 - val_loss: 2.2203 - val_accuracy: 0.2343\n",
            "Epoch 49/100\n",
            "72/72 [==============================] - 45s 625ms/step - loss: 2.2352 - accuracy: 0.1984 - val_loss: 2.2174 - val_accuracy: 0.2395\n",
            "Epoch 50/100\n",
            "72/72 [==============================] - 45s 623ms/step - loss: 2.2314 - accuracy: 0.2037 - val_loss: 2.2145 - val_accuracy: 0.2448\n",
            "Epoch 51/100\n",
            "72/72 [==============================] - 45s 623ms/step - loss: 2.2321 - accuracy: 0.1871 - val_loss: 2.2116 - val_accuracy: 0.2413\n",
            "Epoch 52/100\n",
            "72/72 [==============================] - 45s 623ms/step - loss: 2.2328 - accuracy: 0.1875 - val_loss: 2.2088 - val_accuracy: 0.2430\n",
            "Epoch 53/100\n",
            "72/72 [==============================] - 45s 626ms/step - loss: 2.2340 - accuracy: 0.1941 - val_loss: 2.2058 - val_accuracy: 0.2430\n",
            "Epoch 54/100\n",
            "72/72 [==============================] - 45s 630ms/step - loss: 2.2141 - accuracy: 0.1997 - val_loss: 2.2029 - val_accuracy: 0.2448\n",
            "Epoch 55/100\n",
            "72/72 [==============================] - 46s 636ms/step - loss: 2.2161 - accuracy: 0.2111 - val_loss: 2.2000 - val_accuracy: 0.2413\n",
            "Epoch 56/100\n",
            "72/72 [==============================] - 45s 625ms/step - loss: 2.2256 - accuracy: 0.2037 - val_loss: 2.1971 - val_accuracy: 0.2395\n",
            "Epoch 57/100\n",
            "72/72 [==============================] - 45s 626ms/step - loss: 2.2170 - accuracy: 0.2080 - val_loss: 2.1941 - val_accuracy: 0.2448\n",
            "Epoch 58/100\n",
            "72/72 [==============================] - 45s 626ms/step - loss: 2.2035 - accuracy: 0.2115 - val_loss: 2.1911 - val_accuracy: 0.2448\n",
            "Epoch 59/100\n",
            "72/72 [==============================] - 45s 624ms/step - loss: 2.2052 - accuracy: 0.2133 - val_loss: 2.1881 - val_accuracy: 0.2430\n",
            "Epoch 60/100\n",
            "72/72 [==============================] - 45s 628ms/step - loss: 2.2114 - accuracy: 0.2037 - val_loss: 2.1850 - val_accuracy: 0.2430\n",
            "Epoch 61/100\n",
            "72/72 [==============================] - 45s 620ms/step - loss: 2.2007 - accuracy: 0.2207 - val_loss: 2.1820 - val_accuracy: 0.2395\n",
            "Epoch 62/100\n",
            "72/72 [==============================] - 45s 621ms/step - loss: 2.2025 - accuracy: 0.2163 - val_loss: 2.1790 - val_accuracy: 0.2413\n",
            "Epoch 63/100\n",
            "72/72 [==============================] - 45s 619ms/step - loss: 2.2046 - accuracy: 0.2089 - val_loss: 2.1760 - val_accuracy: 0.2448\n",
            "Epoch 64/100\n",
            "72/72 [==============================] - 45s 622ms/step - loss: 2.1879 - accuracy: 0.2202 - val_loss: 2.1728 - val_accuracy: 0.2448\n",
            "Epoch 65/100\n",
            "72/72 [==============================] - 45s 618ms/step - loss: 2.1924 - accuracy: 0.2085 - val_loss: 2.1697 - val_accuracy: 0.2448\n",
            "Epoch 66/100\n",
            "72/72 [==============================] - 45s 621ms/step - loss: 2.1893 - accuracy: 0.2198 - val_loss: 2.1665 - val_accuracy: 0.2500\n",
            "Epoch 67/100\n",
            "72/72 [==============================] - 45s 627ms/step - loss: 2.1819 - accuracy: 0.2215 - val_loss: 2.1634 - val_accuracy: 0.2535\n",
            "Epoch 68/100\n",
            "72/72 [==============================] - 45s 621ms/step - loss: 2.1790 - accuracy: 0.2246 - val_loss: 2.1601 - val_accuracy: 0.2535\n",
            "Epoch 69/100\n",
            "72/72 [==============================] - 45s 622ms/step - loss: 2.1914 - accuracy: 0.2133 - val_loss: 2.1569 - val_accuracy: 0.2535\n",
            "Epoch 70/100\n",
            "72/72 [==============================] - 45s 621ms/step - loss: 2.1811 - accuracy: 0.2346 - val_loss: 2.1536 - val_accuracy: 0.2587\n",
            "Epoch 71/100\n",
            "72/72 [==============================] - 45s 618ms/step - loss: 2.1664 - accuracy: 0.2294 - val_loss: 2.1503 - val_accuracy: 0.2640\n",
            "Epoch 72/100\n",
            "72/72 [==============================] - 45s 619ms/step - loss: 2.1667 - accuracy: 0.2338 - val_loss: 2.1469 - val_accuracy: 0.2675\n",
            "Epoch 73/100\n",
            "72/72 [==============================] - 45s 619ms/step - loss: 2.1662 - accuracy: 0.2364 - val_loss: 2.1436 - val_accuracy: 0.2710\n",
            "Epoch 74/100\n",
            "72/72 [==============================] - 45s 623ms/step - loss: 2.1676 - accuracy: 0.2194 - val_loss: 2.1402 - val_accuracy: 0.2762\n",
            "Epoch 75/100\n",
            "72/72 [==============================] - 45s 620ms/step - loss: 2.1544 - accuracy: 0.2512 - val_loss: 2.1368 - val_accuracy: 0.2780\n",
            "Epoch 76/100\n",
            "72/72 [==============================] - 45s 623ms/step - loss: 2.1461 - accuracy: 0.2486 - val_loss: 2.1333 - val_accuracy: 0.2780\n",
            "Epoch 77/100\n",
            "72/72 [==============================] - 45s 626ms/step - loss: 2.1357 - accuracy: 0.2551 - val_loss: 2.1297 - val_accuracy: 0.2762\n",
            "Epoch 78/100\n",
            "72/72 [==============================] - 45s 626ms/step - loss: 2.1493 - accuracy: 0.2477 - val_loss: 2.1261 - val_accuracy: 0.2762\n",
            "Epoch 79/100\n",
            "72/72 [==============================] - 45s 620ms/step - loss: 2.1397 - accuracy: 0.2556 - val_loss: 2.1224 - val_accuracy: 0.2762\n",
            "Epoch 80/100\n",
            "72/72 [==============================] - 45s 624ms/step - loss: 2.1313 - accuracy: 0.2442 - val_loss: 2.1187 - val_accuracy: 0.2762\n",
            "Epoch 81/100\n",
            "72/72 [==============================] - 45s 622ms/step - loss: 2.1298 - accuracy: 0.2503 - val_loss: 2.1150 - val_accuracy: 0.2797\n",
            "Epoch 82/100\n",
            "72/72 [==============================] - 45s 622ms/step - loss: 2.1234 - accuracy: 0.2586 - val_loss: 2.1112 - val_accuracy: 0.2867\n",
            "Epoch 83/100\n",
            "72/72 [==============================] - 45s 623ms/step - loss: 2.1178 - accuracy: 0.2538 - val_loss: 2.1073 - val_accuracy: 0.2867\n",
            "Epoch 84/100\n",
            "72/72 [==============================] - 45s 618ms/step - loss: 2.1241 - accuracy: 0.2590 - val_loss: 2.1035 - val_accuracy: 0.2867\n",
            "Epoch 85/100\n",
            "72/72 [==============================] - 45s 620ms/step - loss: 2.1024 - accuracy: 0.2608 - val_loss: 2.0995 - val_accuracy: 0.2902\n",
            "Epoch 86/100\n",
            "72/72 [==============================] - 45s 627ms/step - loss: 2.1188 - accuracy: 0.2521 - val_loss: 2.0955 - val_accuracy: 0.2920\n",
            "Epoch 87/100\n",
            "72/72 [==============================] - 45s 627ms/step - loss: 2.1075 - accuracy: 0.2481 - val_loss: 2.0915 - val_accuracy: 0.2920\n",
            "Epoch 88/100\n",
            "72/72 [==============================] - 45s 623ms/step - loss: 2.1118 - accuracy: 0.2630 - val_loss: 2.0875 - val_accuracy: 0.3007\n",
            "Epoch 89/100\n",
            "72/72 [==============================] - 45s 623ms/step - loss: 2.1002 - accuracy: 0.2595 - val_loss: 2.0833 - val_accuracy: 0.3042\n",
            "Epoch 90/100\n",
            "72/72 [==============================] - 45s 623ms/step - loss: 2.0888 - accuracy: 0.2721 - val_loss: 2.0791 - val_accuracy: 0.3077\n",
            "Epoch 91/100\n",
            "72/72 [==============================] - 45s 623ms/step - loss: 2.0962 - accuracy: 0.2652 - val_loss: 2.0748 - val_accuracy: 0.3129\n",
            "Epoch 92/100\n",
            "72/72 [==============================] - 45s 623ms/step - loss: 2.0843 - accuracy: 0.2804 - val_loss: 2.0705 - val_accuracy: 0.3129\n",
            "Epoch 93/100\n",
            "72/72 [==============================] - 45s 627ms/step - loss: 2.0779 - accuracy: 0.2817 - val_loss: 2.0662 - val_accuracy: 0.3182\n",
            "Epoch 94/100\n",
            "72/72 [==============================] - 46s 634ms/step - loss: 2.0780 - accuracy: 0.2817 - val_loss: 2.0617 - val_accuracy: 0.3252\n",
            "Epoch 95/100\n",
            "72/72 [==============================] - 45s 627ms/step - loss: 2.0755 - accuracy: 0.2765 - val_loss: 2.0572 - val_accuracy: 0.3269\n",
            "Epoch 96/100\n",
            "72/72 [==============================] - 45s 626ms/step - loss: 2.0626 - accuracy: 0.2839 - val_loss: 2.0526 - val_accuracy: 0.3287\n",
            "Epoch 97/100\n",
            "72/72 [==============================] - 45s 622ms/step - loss: 2.0791 - accuracy: 0.2865 - val_loss: 2.0481 - val_accuracy: 0.3304\n",
            "Epoch 98/100\n",
            "72/72 [==============================] - 45s 628ms/step - loss: 2.0649 - accuracy: 0.2739 - val_loss: 2.0434 - val_accuracy: 0.3339\n",
            "Epoch 99/100\n",
            "72/72 [==============================] - 45s 623ms/step - loss: 2.0594 - accuracy: 0.2778 - val_loss: 2.0386 - val_accuracy: 0.3322\n",
            "Epoch 100/100\n",
            "72/72 [==============================] - 45s 624ms/step - loss: 2.0511 - accuracy: 0.2922 - val_loss: 2.0339 - val_accuracy: 0.3339\n"
          ]
        }
      ]
    },
    {
      "cell_type": "code",
      "source": [
        "score = model.evaluate(valid,verbose=0)\n",
        "print('Test loss: ',score[0])\n",
        "print('test accuraccy',score[1])\n"
      ],
      "metadata": {
        "colab": {
          "base_uri": "https://localhost:8080/"
        },
        "id": "6Yx-X2gEAlph",
        "outputId": "76acd85a-b75b-4942-e295-5fd898617dc2"
      },
      "execution_count": 12,
      "outputs": [
        {
          "output_type": "stream",
          "name": "stdout",
          "text": [
            "Test loss:  2.0338685512542725\n",
            "test accuraccy 0.3339160978794098\n"
          ]
        }
      ]
    }
  ]
}